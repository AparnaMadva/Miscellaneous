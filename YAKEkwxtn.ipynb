{
  "nbformat": 4,
  "nbformat_minor": 0,
  "metadata": {
    "colab": {
      "provenance": [],
      "authorship_tag": "ABX9TyPsUWjeSR9UI/KdVzb4SVUN",
      "include_colab_link": true
    },
    "kernelspec": {
      "name": "python3",
      "display_name": "Python 3"
    },
    "language_info": {
      "name": "python"
    }
  },
  "cells": [
    {
      "cell_type": "markdown",
      "metadata": {
        "id": "view-in-github",
        "colab_type": "text"
      },
      "source": [
        "<a href=\"https://colab.research.google.com/github/AparnaMadva/Miscellaneous/blob/main/YAKEkwxtn.ipynb\" target=\"_parent\"><img src=\"https://colab.research.google.com/assets/colab-badge.svg\" alt=\"Open In Colab\"/></a>"
      ]
    },
    {
      "cell_type": "code",
      "execution_count": null,
      "metadata": {
        "colab": {
          "base_uri": "https://localhost:8080/"
        },
        "id": "mEoRdKZ85P3d",
        "outputId": "d6eed3d0-c17b-4f0f-8d20-1123c3495993"
      },
      "outputs": [
        {
          "output_type": "stream",
          "name": "stdout",
          "text": [
            "Looking in indexes: https://pypi.org/simple, https://us-python.pkg.dev/colab-wheels/public/simple/\n",
            "Collecting git+https://github.com/LIAAD/yake\n",
            "  Cloning https://github.com/LIAAD/yake to /tmp/pip-req-build-r4ro5k85\n",
            "  Running command git clone -q https://github.com/LIAAD/yake /tmp/pip-req-build-r4ro5k85\n",
            "Requirement already satisfied: tabulate in /usr/local/lib/python3.7/dist-packages (from yake==0.4.8) (0.8.10)\n",
            "Requirement already satisfied: click>=6.0 in /usr/local/lib/python3.7/dist-packages (from yake==0.4.8) (7.1.2)\n",
            "Requirement already satisfied: numpy in /usr/local/lib/python3.7/dist-packages (from yake==0.4.8) (1.21.6)\n",
            "Collecting segtok\n",
            "  Downloading segtok-1.5.11-py3-none-any.whl (24 kB)\n",
            "Requirement already satisfied: networkx in /usr/local/lib/python3.7/dist-packages (from yake==0.4.8) (2.6.3)\n",
            "Collecting jellyfish\n",
            "  Downloading jellyfish-0.9.0.tar.gz (132 kB)\n",
            "\u001b[K     |████████████████████████████████| 132 kB 37.1 MB/s \n",
            "\u001b[?25hRequirement already satisfied: regex in /usr/local/lib/python3.7/dist-packages (from segtok->yake==0.4.8) (2022.6.2)\n",
            "Building wheels for collected packages: yake, jellyfish\n",
            "  Building wheel for yake (setup.py) ... \u001b[?25l\u001b[?25hdone\n",
            "  Created wheel for yake: filename=yake-0.4.8-py2.py3-none-any.whl size=62600 sha256=1053c5651a8e30fd191f2e2453c68249678ef1a4ee53919af659031095dbe953\n",
            "  Stored in directory: /tmp/pip-ephem-wheel-cache-v8ennx1r/wheels/52/79/f4/dae9309f60266aa3767a4381405002b6f2955fbcf038d804da\n",
            "  Building wheel for jellyfish (setup.py) ... \u001b[?25l\u001b[?25hdone\n",
            "  Created wheel for jellyfish: filename=jellyfish-0.9.0-cp37-cp37m-linux_x86_64.whl size=73984 sha256=2e7606cf3cff41e98f9b8a769aed99654415f86ad175814a8c1315ec4746196a\n",
            "  Stored in directory: /root/.cache/pip/wheels/fe/99/4e/646ce766df0d070b0ef04db27aa11543e2767fda3075aec31b\n",
            "Successfully built yake jellyfish\n",
            "Installing collected packages: segtok, jellyfish, yake\n",
            "Successfully installed jellyfish-0.9.0 segtok-1.5.11 yake-0.4.8\n"
          ]
        }
      ],
      "source": [
        "# keyword extraction using YAKE\n",
        "!pip install git+https://github.com/LIAAD/yake"
      ]
    },
    {
      "cell_type": "code",
      "source": [
        "!yake --help"
      ],
      "metadata": {
        "colab": {
          "base_uri": "https://localhost:8080/"
        },
        "id": "UFvQLqaz5iw-",
        "outputId": "ea0c8c7d-dd53-4cc3-e344-00c2590ae557"
      },
      "execution_count": null,
      "outputs": [
        {
          "output_type": "stream",
          "name": "stdout",
          "text": [
            "Usage: yake [OPTIONS]\n",
            "\n",
            "Options:\n",
            "  -ti, --text_input TEXT          Input text,\n",
            "                                  SURROUNDED by\n",
            "                                  single quotes(')\n",
            "\n",
            "  -i, --input_file TEXT           Input file\n",
            "  -l, --language TEXT             Language\n",
            "  -n, --ngram-size INTEGER        Max size of the\n",
            "                                  ngram.\n",
            "\n",
            "  -df, --dedup-func [leve|jaro|seqm]\n",
            "                                  Deduplication\n",
            "                                  function.\n",
            "\n",
            "  -dl, --dedup-lim FLOAT          Deduplication\n",
            "                                  limiar.\n",
            "\n",
            "  -ws, --window-size INTEGER      Window size.\n",
            "  -t, --top INTEGER               Number of\n",
            "                                  keyphrases to\n",
            "                                  extract\n",
            "\n",
            "  -v, --verbose\n",
            "  --help                          Show this\n",
            "                                  message and\n",
            "                                  exit.\n"
          ]
        }
      ]
    },
    {
      "cell_type": "code",
      "source": [
        "import yake"
      ],
      "metadata": {
        "id": "DfC_c0mF5jnT"
      },
      "execution_count": null,
      "outputs": []
    },
    {
      "cell_type": "code",
      "source": [
        "text = 'ಸಂಸದರಾದ ನಳಿನ್ ಕುಮಾರ್ ಕಟೀಲ್, ಶಾಸಕರಾದ ಡಾ ಭರತ್ ಶೆಟ್ಟಿ, ವೈ ಎ ನಾರಾಯಣ ಸ್ವಾಮಿ, ಎನ್‍ಐಟಿಕೆ ನಿರ್ದೇಶಕ ಪ್ರೋಪ್ರಸಾದ್ ಕೃಷ್ಣ, ಕುಲಸಚಿವ ಪ್ರೋ ಕೆ ರವೀಂದ್ರನಾಥ್ \\\n",
        "ಗೋಷ್ಠಿಯಲ್ಲಿದ್ದರು. ಮಂಗಳೂರು ನಗರಾಭಿವೃದ್ಧಿ ಪ್ರಾಧಿಕಾರ ಕಚೇರಿಗೆ ಅನೀರೀಕ್ಷಿತ ಭೇಟಿ ನೀಡಿದ ಲೋಕಾಯುಕ್ತ ಅಧಿಕಾರಿಗಳು. ದಕ್ಷಿಣ ಭಾರತದ ಖ್ಯಾತ ಸಂಗೀತ ನಿರ್ದೇಶಕ ದೇವಿಶ್ರೀ ಪ್ರಸಾದ್​ ಅವರು \\\n",
        "ಇಂದು ದಿವಂಗತ ನಟ ಡಾ ಪುನೀತ್​ ರಾಜ್​ ಕುಮಾರ್​ ಅವರ ಸಮಾಧಿಗೆ ಭೇಟಿ ನೀಡಿದ್ದಾರೆ. ಈಗಾಗಲೇ ಕರ್ನಾಟಕ, ಕೇರಳ ಮತ್ತು ಉತ್ತರ ಭಾರತದ ಬನಾರಸ್ ವಿತರಣಾ ಹಕ್ಕುಗಳು ಖ್ಯಾತ ಸಂಸ್ಥೆಗಳ ಪಾಲಾಗಿವೆ. \\\n",
        "ಕರಿಯಪ್ಪ ಅನುಮಾನಾಸ್ಪದ ಸಾವಿನ ಪ್ರಕರಣವನ್ನು ಸಿಐಡಿ ತನಿಖೆಗೆ ವಹಿಸಬೇಕು ಎಂದು ಹೆಚ್ ಡಿ ಕೋಟೆ ಶಾಸಕ ಅನಿಲ್ ಚಿಕ್ಕಮಾದು ಹೇಳಿದ್ದಾರೆ. ಟ್ರಾವೆಲ್ ಮ್ಯಾಗಜೀನ್ ಪ್ರಸ್ತುತ ತನ್ನ 16 ನೇ \\\n",
        "ವಾರ್ಷಿಕೋತ್ಸವವನ್ನು ಆಚರಿಸುತ್ತಿದೆ.'"
      ],
      "metadata": {
        "id": "MFB91TCu5-kW"
      },
      "execution_count": null,
      "outputs": []
    },
    {
      "cell_type": "code",
      "source": [
        "language = 'kn'\n",
        "max_ngram_size = 2\n",
        "#deduplication_threshold = 0.9\n",
        "#deduplication_algo = 'seqm'\n",
        "#windowSize = 1\n",
        "#numOfKeywords = 20\n",
        "\n",
        "kw_extractor = yake.KeywordExtractor(lan=language,\n",
        "                                     n=max_ngram_size,\n",
        "                                     features=None)\n",
        "                                    #  dedupLim=deduplication_threshold,\n",
        "                                    #  dedupFunc=deduplication_algo,\n",
        "                                    #  windowsSize=windowSize,\n",
        "                                    #  top=numOfKeywords,"
      ],
      "metadata": {
        "id": "0TpZftNN5-XP"
      },
      "execution_count": null,
      "outputs": []
    },
    {
      "cell_type": "code",
      "source": [
        "#lower the score, more relevant the keyword is\n",
        "keywords = kw_extractor.extract_keywords(text)\n",
        "for kw in keywords:\n",
        "\tprint(kw)"
      ],
      "metadata": {
        "colab": {
          "base_uri": "https://localhost:8080/"
        },
        "id": "5rVtx1aW7f3e",
        "outputId": "cb210f2a-e6c1-44b9-ae11-e7c9ecea7440"
      },
      "execution_count": null,
      "outputs": [
        {
          "output_type": "stream",
          "name": "stdout",
          "text": [
            "('ಸಂಸದರಾದ ನಳಿನ್', 0.05507744660486862)\n",
            "('ಕುಮಾರ್ ಕಟೀಲ್', 0.05507744660486862)\n",
            "('ಭರತ್ ಶೆಟ್ಟಿ', 0.05507744660486862)\n",
            "('ನಾರಾಯಣ ಸ್ವಾಮಿ', 0.05507744660486862)\n",
            "('ಪ್ರೋಪ್ರಸಾದ್ ಕೃಷ್ಣ', 0.05507744660486862)\n",
            "('ಕುಲಸಚಿವ ಪ್ರೋ', 0.05507744660486862)\n",
            "('ರವೀಂದ್ರನಾಥ್ ಗೋಷ್ಠಿಯಲ್ಲಿದ್ದರು', 0.05507744660486862)\n",
            "('ನಳಿನ್ ಕುಮಾರ್', 0.0884141019200737)\n",
            "('ಎನ್\\u200dಐಟಿಕೆ ನಿರ್ದೇಶಕ', 0.1255458574742395)\n",
            "('ಸಂಸದರಾದ', 0.18315794769703686)\n",
            "('ಕಟೀಲ್', 0.18315794769703686)\n",
            "('ಶಾಸಕರಾದ', 0.18315794769703686)\n",
            "('ಶೆಟ್ಟಿ', 0.18315794769703686)\n",
            "('ಸ್ವಾಮಿ', 0.18315794769703686)\n",
            "('ಎನ್\\u200dಐಟಿಕೆ', 0.18315794769703686)\n",
            "('ಕೃಷ್ಣ', 0.18315794769703686)\n",
            "('ಕುಲಸಚಿವ', 0.18315794769703686)\n",
            "('ಗೋಷ್ಠಿಯಲ್ಲಿದ್ದರು', 0.18315794769703686)\n",
            "('ನಿರ್ದೇಶಕ ಪ್ರೋಪ್ರಸಾದ್', 0.21002527184792502)\n",
            "('ನಳಿನ್', 0.2850123571476043)\n"
          ]
        }
      ]
    },
    {
      "cell_type": "code",
      "source": [
        "from yake.highlight import TextHighlighter\n",
        "\n",
        "th = TextHighlighter(max_ngram_size = 3)\n",
        "th.highlight(text, keywords)\n"
      ],
      "metadata": {
        "colab": {
          "base_uri": "https://localhost:8080/",
          "height": 110
        },
        "id": "0l36VihnAYbb",
        "outputId": "c828f5ab-83e6-4028-f02b-40189e2a956c"
      },
      "execution_count": null,
      "outputs": [
        {
          "output_type": "execute_result",
          "data": {
            "text/plain": [
              "'<kw>ಸಂಸದರಾದ ನಳಿನ್</kw> ಕುಮಾರ್ ಕಟೀಲ್, <kw>ಶಾಸಕರಾದ</kw> ಡಾ ಭರತ್ ಶೆಟ್ಟಿ, ವೈ ಎ ನಾರಾಯಣ ಸ್ವಾಮಿ, <kw>ಎನ್\\u200dಐಟಿಕೆ ನಿರ್ದೇಶಕ</kw> <kw>ಪ್ರೋಪ್ರಸಾದ್ ಕೃಷ್ಣ</kw>, <kw>ಕುಲಸಚಿವ ಪ್ರೋ</kw> ಕೆ ರವೀಂದ್ರನಾಥ್ ಗೋಷ್ಠಿಯಲ್ಲಿದ್ದರು. ಮಂಗಳೂರು ನಗರಾಭಿವೃದ್ಧಿ ಪ್ರಾಧಿಕಾರ ಕಚೇರಿಗೆ ಅನೀರೀಕ್ಷಿತ ಭೇಟಿ ನೀಡಿದ ಲೋಕಾಯುಕ್ತ ಅಧಿಕಾರಿಗಳು. ದಕ್ಷಿಣ ಭಾರತದ ಖ್ಯಾತ ಸಂಗೀತ ನಿರ್ದೇಶಕ ದೇವಿಶ್ರೀ ಪ್ರಸಾದ್\\u200b ಅವರು ಇಂದು ದಿವಂಗತ ನಟ ಡಾ ಪುನೀತ್\\u200b ರಾಜ್\\u200b ಕುಮಾರ್\\u200b ಅವರ ಸಮಾಧಿಗೆ ಭೇಟಿ ನೀಡಿದ್ದಾರೆ. ಈಗಾಗಲೇ ಕರ್ನಾಟಕ, ಕೇರಳ ಮತ್ತು ಉತ್ತರ ಭಾರತದ ಬನಾರಸ್ ವಿತರಣಾ ಹಕ್ಕುಗಳು ಖ್ಯಾತ ಸಂಸ್ಥೆಗಳ ಪಾಲಾಗಿವೆ. ಕರಿಯಪ್ಪ ಅನುಮಾನಾಸ್ಪದ ಸಾವಿನ ಪ್ರಕರಣವನ್ನು ಸಿಐಡಿ ತನಿಖೆಗೆ ವಹಿಸಬೇಕು ಎಂದು ಹೆಚ್ ಡಿ ಕೋಟೆ ಶಾಸಕ ಅನಿಲ್ ಚಿಕ್ಕಮಾದು ಹೇಳಿದ್ದಾರೆ. ಟ್ರಾವೆಲ್ ಮ್ಯಾಗಜೀನ್ ಪ್ರಸ್ತುತ ತನ್ನ 16 ನೇ ವಾರ್ಷಿಕೋತ್ಸವವನ್ನು ಆಚರಿಸುತ್ತಿದೆ.'"
            ],
            "application/vnd.google.colaboratory.intrinsic+json": {
              "type": "string"
            }
          },
          "metadata": {},
          "execution_count": 11
        }
      ]
    },
    {
      "cell_type": "code",
      "source": [],
      "metadata": {
        "id": "HScXdE3jAcO5"
      },
      "execution_count": null,
      "outputs": []
    },
    {
      "cell_type": "code",
      "source": [],
      "metadata": {
        "id": "bRDho7pZAb_u"
      },
      "execution_count": null,
      "outputs": []
    }
  ]
}