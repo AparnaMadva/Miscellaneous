{
  "nbformat": 4,
  "nbformat_minor": 0,
  "metadata": {
    "colab": {
      "provenance": [],
      "authorship_tag": "ABX9TyOzi1CqlXI3RZAF7lysNX8r",
      "include_colab_link": true
    },
    "kernelspec": {
      "name": "python3",
      "display_name": "Python 3"
    },
    "language_info": {
      "name": "python"
    }
  },
  "cells": [
    {
      "cell_type": "markdown",
      "metadata": {
        "id": "view-in-github",
        "colab_type": "text"
      },
      "source": [
        "<a href=\"https://colab.research.google.com/github/AparnaMadva/Miscellaneous/blob/main/PreprocessingForAL.ipynb\" target=\"_parent\"><img src=\"https://colab.research.google.com/assets/colab-badge.svg\" alt=\"Open In Colab\"/></a>"
      ]
    },
    {
      "cell_type": "code",
      "source": [
        "import re"
      ],
      "metadata": {
        "id": "HSlX6VmiozOk"
      },
      "execution_count": null,
      "outputs": []
    },
    {
      "cell_type": "code",
      "execution_count": null,
      "metadata": {
        "colab": {
          "base_uri": "https://localhost:8080/",
          "height": 147
        },
        "id": "IQJQ3Gd3oE3b",
        "outputId": "f2be01d2-75e9-40c1-9bd4-9fa4e1f2d9ff"
      },
      "outputs": [
        {
          "output_type": "execute_result",
          "data": {
            "text/plain": [
              "'ಕಳೆದ ಬಾರಿಯ ವಿಧಾನಸಭಾ ಚುನಾವಣೆಯಲ್ಲಿ ಕಾಂಗ್ರೆಸ್ ನಿಂದ ದೊಡ್ಡಸ್ವಾಮಿ ಗೌಡ ಸೋಲು ಕಂಡಿದ್ದರು\\nಕೆಲ ದಿನಗಳ ಹಿಂದೆ ಕೆ.ಆರ್.ನಗರದಲ್ಲಿ ನಡೆದ ಸಭೆಯಲ್ಲಿ ಹಿರಿಯ ಕಾಂಗ್ರೆಸ್ ಮುಖಂಡ ದೊಡ್ಡಸ್ವಾಮೇಗೌಡ ಅವರ ಪುತ್ರ, ಡಿ.ರವಿಶಂಕರ್ ಅವರೇ ಕಾಂಗ್ರೆಸ್ ಅಭ್ಯರ್ಥಿ ಎಂದು ಮುಖ್ಯಮಂತ್ರಿ ಸಿದ್ದರಾಮಯ್ಯ ಘೋಷಿಸಿದ್ದಾರೆ\\nಹುಟ್ಟು ಹೋರಾಟಗಾರ   ಅತ್ಯುತ್ತಮ ವಾಗ್ಮಿ ಹಾಗೂ ಮಾಜಿ ಶಾಸಕ ಬಾಬು ರೆಡ್ಡಿ ತುಂಗಳ(85) ಇಂದು ಮುಂಜಾನೆ ನಿಧನರಾಗಿದ್ದಾರೆ\\nಈ ಘಟನೆಯನ್ನು                 ವರದಿ ಮಾಡಲು ತೆರಳಿದ್ದ ಖಾಸಗಿ ವಾಹಿನಿಯೊಂದರ ಕ್ಯಾಮೆರಾಮೆನ್ ರತನ್ ರಾಧೆಶ್ಯಾಮ್ ಭೌಮಿಕ್ ಹೃದಯಘಾತದಿಂಗ ಸಾವನ್ನಪ್ಪಿದ್ದಾನೆ'"
            ],
            "application/vnd.google.colaboratory.intrinsic+json": {
              "type": "string"
            }
          },
          "metadata": {},
          "execution_count": 55
        }
      ],
      "source": [
        "with open('/content/data.txt') as f:\n",
        "  sample_text = f.read()\n",
        "sample_text"
      ]
    },
    {
      "cell_type": "code",
      "source": [
        "sample_text = re.sub(r',|-|\\|', '', sample_text, re.UNICODE)\n",
        "sample_text"
      ],
      "metadata": {
        "colab": {
          "base_uri": "https://localhost:8080/",
          "height": 147
        },
        "id": "cLsuS2Ayov1d",
        "outputId": "0c967ea1-3f99-45c2-f05a-90f2945dcdde"
      },
      "execution_count": null,
      "outputs": [
        {
          "output_type": "execute_result",
          "data": {
            "text/plain": [
              "'ಕಳೆದ ಬಾರಿಯ ವಿಧಾನಸಭಾ ಚುನಾವಣೆಯಲ್ಲಿ ಕಾಂಗ್ರೆಸ್ ನಿಂದ ದೊಡ್ಡಸ್ವಾಮಿ ಗೌಡ ಸೋಲು ಕಂಡಿದ್ದರು\\nಕೆಲ ದಿನಗಳ ಹಿಂದೆ ಕೆ.ಆರ್.ನಗರದಲ್ಲಿ ನಡೆದ ಸಭೆಯಲ್ಲಿ ಹಿರಿಯ ಕಾಂಗ್ರೆಸ್ ಮುಖಂಡ ದೊಡ್ಡಸ್ವಾಮೇಗೌಡ ಅವರ ಪುತ್ರ ಡಿ.ರವಿಶಂಕರ್ ಅವರೇ ಕಾಂಗ್ರೆಸ್ ಅಭ್ಯರ್ಥಿ ಎಂದು ಮುಖ್ಯಮಂತ್ರಿ ಸಿದ್ದರಾಮಯ್ಯ ಘೋಷಿಸಿದ್ದಾರೆ\\nಹುಟ್ಟು ಹೋರಾಟಗಾರ   ಅತ್ಯುತ್ತಮ ವಾಗ್ಮಿ ಹಾಗೂ ಮಾಜಿ ಶಾಸಕ ಬಾಬು ರೆಡ್ಡಿ ತುಂಗಳ(85) ಇಂದು ಮುಂಜಾನೆ ನಿಧನರಾಗಿದ್ದಾರೆ\\nಈ ಘಟನೆಯನ್ನು                 ವರದಿ ಮಾಡಲು ತೆರಳಿದ್ದ ಖಾಸಗಿ ವಾಹಿನಿಯೊಂದರ ಕ್ಯಾಮೆರಾಮೆನ್ ರತನ್ ರಾಧೆಶ್ಯಾಮ್ ಭೌಮಿಕ್ ಹೃದಯಘಾತದಿಂಗ ಸಾವನ್ನಪ್ಪಿದ್ದಾನೆ'"
            ],
            "application/vnd.google.colaboratory.intrinsic+json": {
              "type": "string"
            }
          },
          "metadata": {},
          "execution_count": 56
        }
      ]
    },
    {
      "cell_type": "code",
      "source": [
        "sample_text = re.sub(r'\\.|\\s\\s+', ' ', sample_text, re.UNICODE)\n",
        "sample_text"
      ],
      "metadata": {
        "colab": {
          "base_uri": "https://localhost:8080/",
          "height": 147
        },
        "id": "otkjipymutsK",
        "outputId": "0c01b631-e14f-4424-acde-470a1a7e61e5"
      },
      "execution_count": null,
      "outputs": [
        {
          "output_type": "execute_result",
          "data": {
            "text/plain": [
              "'ಕಳೆದ ಬಾರಿಯ ವಿಧಾನಸಭಾ ಚುನಾವಣೆಯಲ್ಲಿ ಕಾಂಗ್ರೆಸ್ ನಿಂದ ದೊಡ್ಡಸ್ವಾಮಿ ಗೌಡ ಸೋಲು ಕಂಡಿದ್ದರು\\nಕೆಲ ದಿನಗಳ ಹಿಂದೆ ಕೆ ಆರ್ ನಗರದಲ್ಲಿ ನಡೆದ ಸಭೆಯಲ್ಲಿ ಹಿರಿಯ ಕಾಂಗ್ರೆಸ್ ಮುಖಂಡ ದೊಡ್ಡಸ್ವಾಮೇಗೌಡ ಅವರ ಪುತ್ರ ಡಿ ರವಿಶಂಕರ್ ಅವರೇ ಕಾಂಗ್ರೆಸ್ ಅಭ್ಯರ್ಥಿ ಎಂದು ಮುಖ್ಯಮಂತ್ರಿ ಸಿದ್ದರಾಮಯ್ಯ ಘೋಷಿಸಿದ್ದಾರೆ\\nಹುಟ್ಟು ಹೋರಾಟಗಾರ ಅತ್ಯುತ್ತಮ ವಾಗ್ಮಿ ಹಾಗೂ ಮಾಜಿ ಶಾಸಕ ಬಾಬು ರೆಡ್ಡಿ ತುಂಗಳ(85) ಇಂದು ಮುಂಜಾನೆ ನಿಧನರಾಗಿದ್ದಾರೆ\\nಈ ಘಟನೆಯನ್ನು ವರದಿ ಮಾಡಲು ತೆರಳಿದ್ದ ಖಾಸಗಿ ವಾಹಿನಿಯೊಂದರ ಕ್ಯಾಮೆರಾಮೆನ್ ರತನ್ ರಾಧೆಶ್ಯಾಮ್ ಭೌಮಿಕ್ ಹೃದಯಘಾತದಿಂಗ ಸಾವನ್ನಪ್ಪಿದ್ದಾನೆ'"
            ],
            "application/vnd.google.colaboratory.intrinsic+json": {
              "type": "string"
            }
          },
          "metadata": {},
          "execution_count": 57
        }
      ]
    },
    {
      "cell_type": "code",
      "source": [
        "with open('/content/data.txt','w') as f:\n",
        "  f.write(sample_text)"
      ],
      "metadata": {
        "id": "EMyftAUgwLBA"
      },
      "execution_count": null,
      "outputs": []
    }
  ]
}